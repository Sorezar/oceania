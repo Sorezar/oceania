{
 "cells": [
  {
   "cell_type": "code",
   "execution_count": 16,
   "id": "ea67bc7e-e69f-4465-86ee-5192e2fbb622",
   "metadata": {},
   "outputs": [],
   "source": [
    "import os\n",
    "import cv2\n",
    "import math\n",
    "from ultralytics import YOLO\n",
    "from collections import deque\n",
    "from werkzeug.utils import secure_filename\n",
    "from flask import Flask, render_template, Response, request, jsonify"
   ]
  },
  {
   "cell_type": "code",
   "execution_count": 17,
   "id": "9f7091a4",
   "metadata": {},
   "outputs": [],
   "source": [
    "CONF_THRESHOLD = 0.6\n",
    "classNames = [\"bouledogue\",\"whitetip\", \"blacktip\"]\n",
    "#model = YOLO(\"runs/detect/train16/weights/best.engine\")\n",
    "model = YOLO(\"runs/detect/train16/weights/best.engine\")\n",
    "#model = YOLO('yolov8m.engine', task='detect')"
   ]
  },
  {
   "cell_type": "code",
   "execution_count": 18,
   "id": "475f35b1",
   "metadata": {},
   "outputs": [],
   "source": [
    "def make_pred(classNames, img, results):\n",
    "    detection = False\n",
    "    labels = []\n",
    "    boxes_to_draw = []\n",
    "\n",
    "    for result in results:\n",
    "        boxes = result.boxes\n",
    "        for box in boxes:\n",
    "            conf = math.ceil((box.conf[0] * 100)) / 100\n",
    "            if conf > CONF_THRESHOLD:\n",
    "                detection = True\n",
    "                x1, y1, x2, y2 = map(int, box.xyxy[0].tolist())\n",
    "                cls = int(box.cls[0])\n",
    "                class_name = classNames[cls]\n",
    "                label = f'{class_name} : {conf*100:.0f}%'\n",
    "                labels.append((x1, y1, label))\n",
    "                boxes_to_draw.append((x1, y1, x2, y2))\n",
    "\n",
    "    # Draw boxes and labels\n",
    "    for (x1, y1, x2, y2) in boxes_to_draw:\n",
    "        cv2.rectangle(img, (x1, y1), (x2, y2), (255, 255, 255), 3)\n",
    "\n",
    "    for (x1, y1, label) in labels:\n",
    "        t_size = cv2.getTextSize(label, 0, fontScale=1, thickness=2)[0]\n",
    "        c2 = x1 + t_size[0], y1 - t_size[1] - 3\n",
    "        cv2.rectangle(img, (x1, y1), c2, [255, 255, 255], -1, cv2.LINE_AA)\n",
    "        cv2.putText(img, label, (x1, y1 - 2), 0, 1, [122, 0, 0], thickness=1, lineType=cv2.LINE_AA)\n",
    "\n",
    "    return detection"
   ]
  },
  {
   "cell_type": "code",
   "execution_count": 19,
   "id": "4f073d48",
   "metadata": {},
   "outputs": [],
   "source": [
    "def image_detect(image_path):\n",
    "    img   = cv2.imread(image_path)\n",
    "\n",
    "    if img is None:\n",
    "        return None\n",
    "    \n",
    "    results = model(img, verbose=False)\n",
    "    make_pred(classNames, img, results)\n",
    "                \n",
    "    result_path = image_path.replace('uploads', 'results')\n",
    "    cv2.imwrite(result_path, img)\n",
    "    \n",
    "    return result_path"
   ]
  },
  {
   "cell_type": "code",
   "execution_count": 20,
   "id": "7e5fb393-5178-43e8-a0aa-089259dd520a",
   "metadata": {
    "scrolled": true
   },
   "outputs": [],
   "source": [
    "def video_detection(path):\n",
    "    cap = cv2.VideoCapture(path)\n",
    "    fps = cap.get(cv2.CAP_PROP_FPS)\n",
    "    \n",
    "    tolerance_threshold = int(fps * 2)\n",
    "    pre_detection_buffer_length = int(fps * 1)\n",
    "    \n",
    "    no_detection_count = 0\n",
    "    in_detection_sequence = False\n",
    "    video_writer = None\n",
    "    \n",
    "    detection_sequence_counter = 0  # Compteur pour les séquences de détection\n",
    "    pre_detection_buffer = deque(maxlen=pre_detection_buffer_length)  # Buffer pour les images avant la détection\n",
    "    \n",
    "    frame_width  = int(cap.get(3))\n",
    "    frame_height = int(cap.get(4))\n",
    "    \n",
    "    # Create a separate video writer for the complete video\n",
    "    result_path = path.replace('uploads', 'results')\n",
    "    complete_video_writer = cv2.VideoWriter(f'{result_path}', cv2.VideoWriter_fourcc(*'mp4v'), fps, (frame_width, frame_height))\n",
    "    \n",
    "    while True:\n",
    "        success, img = cap.read()\n",
    "        if not success:\n",
    "            break\n",
    "        \n",
    "        pre_detection_buffer.append(img.copy())\n",
    "        results = model(img, stream=True, verbose=False)\n",
    "        detection = make_pred(classNames, img, results) \n",
    "        \n",
    "        if detection:\n",
    "            if not in_detection_sequence:\n",
    "                in_detection_sequence = True\n",
    "                detection_sequence_counter += 1\n",
    "                video_writer = cv2.VideoWriter(f'static/results/output_{detection_sequence_counter}.mp4', cv2.VideoWriter_fourcc(*'mp4v'), fps, (frame_width, frame_height))\n",
    "                \n",
    "                for buffered_img in pre_detection_buffer:\n",
    "                    video_writer.write(buffered_img)\n",
    "                pre_detection_buffer.clear()\n",
    "                \n",
    "            no_detection_count = 0\n",
    "            video_writer.write(img)\n",
    "            \n",
    "        else:\n",
    "            no_detection_count += 1\n",
    "            if in_detection_sequence and no_detection_count <= tolerance_threshold:\n",
    "                video_writer.write(img)\n",
    "            \n",
    "            elif in_detection_sequence and no_detection_count > tolerance_threshold:\n",
    "                video_writer.release()\n",
    "                in_detection_sequence = False\n",
    "                pre_detection_buffer.clear()\n",
    "                \n",
    "        complete_video_writer.write(img) \n",
    "        \n",
    "    if in_detection_sequence:\n",
    "        video_writer.release()\n",
    "    \n",
    "    complete_video_writer.release()  # Release the complete video writer\n",
    "    \n",
    "    return result_path"
   ]
  },
  {
   "cell_type": "code",
   "execution_count": 21,
   "id": "566e957b",
   "metadata": {},
   "outputs": [],
   "source": [
    "        #if recording == True:\n",
    "        #    ref, buffer = cv2.imencode('.jpg', img)\n",
    "        #    frame = buffer.tobytes()\n",
    "        #    yield (b'--frame\\r\\n' b'Content-Type: image/jpeg\\r\\n\\r\\n' + frame + b'\\r\\n')"
   ]
  },
  {
   "cell_type": "code",
   "execution_count": 22,
   "id": "0280aaf1-69ab-4f25-b0f0-d9c51b68fb72",
   "metadata": {
    "scrolled": true
   },
   "outputs": [
    {
     "name": "stdout",
     "output_type": "stream",
     "text": [
      " * Serving Flask app '__main__'\n",
      " * Debug mode: off\n"
     ]
    },
    {
     "name": "stderr",
     "output_type": "stream",
     "text": [
      "WARNING: This is a development server. Do not use it in a production deployment. Use a production WSGI server instead.\n",
      " * Running on http://127.0.0.1:5000\n",
      "Press CTRL+C to quit\n",
      "127.0.0.1 - - [24/May/2024 22:23:25] \"GET / HTTP/1.1\" 200 -\n",
      "127.0.0.1 - - [24/May/2024 22:23:25] \"GET /static/style.css HTTP/1.1\" 304 -\n"
     ]
    },
    {
     "name": "stdout",
     "output_type": "stream",
     "text": [
      "Loading runs\\detect\\train16\\weights\\best.engine for TensorRT inference...\n"
     ]
    },
    {
     "name": "stderr",
     "output_type": "stream",
     "text": [
      "127.0.0.1 - - [24/May/2024 22:23:58] \"POST / HTTP/1.1\" 200 -\n",
      "127.0.0.1 - - [24/May/2024 22:23:58] \"GET /static/results/20240423_002235A.mp4 HTTP/1.1\" 200 -\n"
     ]
    }
   ],
   "source": [
    "app = Flask(__name__) \n",
    "\n",
    "app.config['UPLOAD_FOLDER'] = 'static/uploads/'\n",
    "app.config['RESULT_FOLDER'] = 'static/results/'\n",
    "ALLOWED_EXTENSIONS = {'png', 'jpg', 'jpeg', 'gif', 'mp4', 'avi', 'mov', 'PNG', 'JPG', 'JPEG', 'GIF', 'MP4', 'AVI', 'MOV'}\n",
    "\n",
    "def allowed_file(filename):\n",
    "    return '.' in filename and filename.rsplit('.', 1)[1].lower() in ALLOWED_EXTENSIONS\n",
    "\n",
    "@app.route('/')\n",
    "def index():\n",
    "    return render_template('index.html')\n",
    "\n",
    "@app.route('/', methods=['POST'])\n",
    "def upload_file():\n",
    "    file = request.files['file']\n",
    "    if file.filename == '':\n",
    "        return jsonify(error=\"No selected file\"), 400\n",
    "    \n",
    "    if file and allowed_file(file.filename):\n",
    "        filename = secure_filename(file.filename)\n",
    "        filepath = os.path.join(app.config['UPLOAD_FOLDER'], filename)\n",
    "        file.save(filepath)\n",
    "        \n",
    "        file_extension = filename.rsplit('.', 1)[1].lower()\n",
    "        if file_extension in ['mp4', 'avi', 'mov', 'MP4', 'AVI', 'MOV']:\n",
    "            result_path = video_detection(filepath)\n",
    "        elif file_extension in ['png', 'jpg', 'jpeg', 'JPG']:\n",
    "            result_path = image_detect(filepath)\n",
    "            \n",
    "        if result_path:\n",
    "            result_filename = os.path.basename(result_path)\n",
    "            return jsonify({'filename': result_filename}), 200\n",
    "    return jsonify({'error': 'Image detection failed'})\n",
    "    \n",
    "@app.route('/webcam')\n",
    "def webcam():\n",
    "    return Response(video_detection(path=0), mimetype='multipart/x-mixed-replace; boundary=frame')\n",
    "\n",
    "@app.route('/gallery')\n",
    "def gallery():\n",
    "    images = os.listdir('static/results')\n",
    "    images = [image for image in images if image.endswith(('jpg', 'jpeg', 'png', 'gif', 'JPG'))]\n",
    "    return render_template('gallery.html', images=images)\n",
    "\n",
    "if __name__ == '__main__':\n",
    "    app.run(debug=False)"
   ]
  },
  {
   "cell_type": "code",
   "execution_count": null,
   "id": "38b5c12d",
   "metadata": {},
   "outputs": [],
   "source": []
  }
 ],
 "metadata": {
  "kernelspec": {
   "display_name": "Python 3 (ipykernel)",
   "language": "python",
   "name": "python3"
  },
  "language_info": {
   "codemirror_mode": {
    "name": "ipython",
    "version": 3
   },
   "file_extension": ".py",
   "mimetype": "text/x-python",
   "name": "python",
   "nbconvert_exporter": "python",
   "pygments_lexer": "ipython3",
   "version": "3.11.9"
  }
 },
 "nbformat": 4,
 "nbformat_minor": 5
}
