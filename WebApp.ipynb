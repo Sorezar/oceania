{
 "cells": [
  {
   "cell_type": "code",
   "execution_count": 1,
   "id": "ea67bc7e-e69f-4465-86ee-5192e2fbb622",
   "metadata": {},
   "outputs": [],
   "source": [
    "import os\n",
    "import cv2\n",
    "import math\n",
    "from ultralytics import YOLO\n",
    "from flask import Flask, render_template, Response, request, jsonify"
   ]
  },
  {
   "cell_type": "code",
   "execution_count": 2,
   "id": "06758fd5",
   "metadata": {},
   "outputs": [],
   "source": [
    "def make_pred(classNames, img, results):\n",
    "    for result in results:\n",
    "        boxes = result.boxes\n",
    "        for box in boxes:\n",
    "            conf = math.ceil((box.conf[0] * 100)) / 100\n",
    "            if conf > 0.5:\n",
    "                x1, y1, x2, y2 = box.xyxy[0].int().tolist()\n",
    "                cv2.rectangle(img, (x1, y1), (x2, y2), (0, 255, 0), 3)\n",
    "                cls = int(box.cls[0])\n",
    "                class_name = classNames[cls]\n",
    "                label = f'{class_name} : {conf}'\n",
    "                t_size = cv2.getTextSize(label, 0, fontScale=1, thickness=2)[0]\n",
    "                c2 = x1 + t_size[0], y1 - t_size[1] - 3\n",
    "                cv2.rectangle(img, (x1,y1), c2, [0,255,0], -1, cv2.LINE_AA)\n",
    "                cv2.putText(img, label, (x1, y1-2), 0, 1, [255,255,255], thickness=1, lineType=cv2.LINE_AA)"
   ]
  },
  {
   "cell_type": "code",
   "execution_count": 3,
   "id": "4f073d48",
   "metadata": {},
   "outputs": [],
   "source": [
    "def image_detect(image_path):\n",
    "    img   = cv2.imread(image_path)\n",
    "    model = YOLO(\"runs/detect/train/weights/best.pt\")\n",
    "    classNames = [\"bouledogue\",\"blacktip\",\"whitetip\"]\n",
    "    \n",
    "    if img is None:\n",
    "        return None\n",
    "    \n",
    "    results = model(img)\n",
    "    make_pred(classNames, img, results)\n",
    "                \n",
    "    result_path = image_path.replace('uploads', 'results')\n",
    "    cv2.imwrite(result_path, img)\n",
    "    \n",
    "    return result_path"
   ]
  },
  {
   "cell_type": "code",
   "execution_count": 4,
   "id": "7e5fb393-5178-43e8-a0aa-089259dd520a",
   "metadata": {
    "scrolled": true
   },
   "outputs": [],
   "source": [
    "def video_detection(path):\n",
    "    cap   = cv2.VideoCapture(path)\n",
    "    model = YOLO(\"runs/detect/train/weights/best.pt\")\n",
    "    classNames = [\"bouledogue\", \"blacktip\", \"whitetip\"]\n",
    "    \n",
    "    while True:\n",
    "        success, img = cap.read()\n",
    "        results = model(img, stream=True)\n",
    "        make_pred(classNames, img, results)        \n",
    "        yield img"
   ]
  },
  {
   "cell_type": "code",
   "execution_count": 5,
   "id": "2f87e276",
   "metadata": {},
   "outputs": [],
   "source": [
    "def generate_frames(path = ''):\n",
    "    yolo_output = video_detection(path)\n",
    "    for detection in yolo_output :\n",
    "        ref, buffer = cv2.imencode('.jpg', detection)\n",
    "        frame = buffer.tobytes()\n",
    "        yield (b'--frame\\r\\n' b'Content-Type: image/jpeg\\r\\n\\r\\n' + frame + b'\\r\\n')"
   ]
  },
  {
   "cell_type": "code",
   "execution_count": 6,
   "id": "0280aaf1-69ab-4f25-b0f0-d9c51b68fb72",
   "metadata": {
    "scrolled": true
   },
   "outputs": [
    {
     "name": "stdout",
     "output_type": "stream",
     "text": [
      " * Serving Flask app '__main__'\n",
      " * Debug mode: off\n"
     ]
    },
    {
     "name": "stderr",
     "output_type": "stream",
     "text": [
      "WARNING: This is a development server. Do not use it in a production deployment. Use a production WSGI server instead.\n",
      " * Running on http://127.0.0.1:5000\n",
      "Press CTRL+C to quit\n",
      "127.0.0.1 - - [17/May/2024 12:52:02] \"GET / HTTP/1.1\" 200 -\n",
      "127.0.0.1 - - [17/May/2024 12:52:02] \"GET /static/style.css HTTP/1.1\" 304 -\n",
      "127.0.0.1 - - [17/May/2024 12:52:10] \"GET /gallery HTTP/1.1\" 200 -\n",
      "127.0.0.1 - - [17/May/2024 12:52:10] \"GET /static/style.css HTTP/1.1\" 304 -\n",
      "127.0.0.1 - - [17/May/2024 12:52:10] \"GET /static/results/P4155150.JPG HTTP/1.1\" 304 -\n",
      "127.0.0.1 - - [17/May/2024 12:52:10] \"GET /static/results/P4155202.JPG HTTP/1.1\" 304 -\n",
      "127.0.0.1 - - [17/May/2024 12:52:10] \"GET /static/results/IMG_4408.jpg HTTP/1.1\" 304 -\n",
      "127.0.0.1 - - [17/May/2024 12:52:10] \"GET /static/results/P4155205.JPG HTTP/1.1\" 304 -\n",
      "127.0.0.1 - - [17/May/2024 12:52:10] \"GET /static/results/P4155206.JPG HTTP/1.1\" 304 -\n",
      "127.0.0.1 - - [17/May/2024 12:52:10] \"GET /static/results/P4155211.JPG HTTP/1.1\" 304 -\n",
      "127.0.0.1 - - [17/May/2024 12:52:10] \"GET /static/results/P4155212.JPG HTTP/1.1\" 304 -\n",
      "127.0.0.1 - - [17/May/2024 12:52:10] \"GET /static/results/P4155267.JPG HTTP/1.1\" 304 -\n",
      "127.0.0.1 - - [17/May/2024 12:52:10] \"GET /static/results/P4155277.JPG HTTP/1.1\" 304 -\n",
      "127.0.0.1 - - [17/May/2024 12:52:10] \"GET /static/results/P4165406.JPG HTTP/1.1\" 304 -\n",
      "127.0.0.1 - - [17/May/2024 12:52:10] \"GET /static/results/P4165403.JPG HTTP/1.1\" 304 -\n",
      "127.0.0.1 - - [17/May/2024 12:52:10] \"GET /static/results/P4165348.JPG HTTP/1.1\" 304 -\n",
      "127.0.0.1 - - [17/May/2024 12:52:10] \"GET /static/results/P4155278.JPG HTTP/1.1\" 304 -\n",
      "127.0.0.1 - - [17/May/2024 12:52:10] \"GET /static/results/P4155279.JPG HTTP/1.1\" 304 -\n",
      "127.0.0.1 - - [17/May/2024 12:52:10] \"GET /static/results/P4185866.JPG HTTP/1.1\" 304 -\n",
      "127.0.0.1 - - [17/May/2024 12:52:10] \"GET /static/results/P4155271.JPG HTTP/1.1\" 304 -\n",
      "127.0.0.1 - - [17/May/2024 12:52:10] \"GET /static/results/P4165345.JPG HTTP/1.1\" 304 -\n",
      "127.0.0.1 - - [17/May/2024 12:52:10] \"GET /static/results/P4186160.JPG HTTP/1.1\" 304 -\n",
      "127.0.0.1 - - [17/May/2024 12:52:10] \"GET /static/results/P4155283.JPG HTTP/1.1\" 304 -\n",
      "127.0.0.1 - - [17/May/2024 12:52:10] \"GET /static/results/P4196626.JPG HTTP/1.1\" 304 -\n",
      "127.0.0.1 - - [17/May/2024 12:52:10] \"GET /static/results/P4165376.JPG HTTP/1.1\" 304 -\n",
      "127.0.0.1 - - [17/May/2024 12:52:10] \"GET /static/results/P4155266.JPG HTTP/1.1\" 304 -\n",
      "127.0.0.1 - - [17/May/2024 12:52:10] \"GET /static/results/P4175527.JPG HTTP/1.1\" 304 -\n",
      "127.0.0.1 - - [17/May/2024 12:52:10] \"GET /static/results/P4185861.JPG HTTP/1.1\" 304 -\n",
      "127.0.0.1 - - [17/May/2024 12:52:10] \"GET /static/results/P4165402.JPG HTTP/1.1\" 304 -\n",
      "127.0.0.1 - - [17/May/2024 12:52:21] \"GET / HTTP/1.1\" 200 -\n",
      "127.0.0.1 - - [17/May/2024 12:52:21] \"GET /static/style.css HTTP/1.1\" 304 -\n",
      "127.0.0.1 - - [17/May/2024 12:52:22] \"GET /gallery HTTP/1.1\" 200 -\n",
      "127.0.0.1 - - [17/May/2024 12:52:22] \"GET /static/style.css HTTP/1.1\" 304 -\n",
      "127.0.0.1 - - [17/May/2024 12:52:22] \"GET /static/results/IMG_4408.jpg HTTP/1.1\" 304 -\n",
      "127.0.0.1 - - [17/May/2024 12:52:22] \"GET /static/results/P4155150.JPG HTTP/1.1\" 304 -\n",
      "127.0.0.1 - - [17/May/2024 12:52:22] \"GET /static/results/P4155267.JPG HTTP/1.1\" 304 -\n",
      "127.0.0.1 - - [17/May/2024 12:52:22] \"GET /static/results/P4155277.JPG HTTP/1.1\" 304 -\n",
      "127.0.0.1 - - [17/May/2024 12:52:22] \"GET /static/results/P4155211.JPG HTTP/1.1\" 304 -\n",
      "127.0.0.1 - - [17/May/2024 12:52:22] \"GET /static/results/P4155205.JPG HTTP/1.1\" 304 -\n",
      "127.0.0.1 - - [17/May/2024 12:52:22] \"GET /static/results/P4155202.JPG HTTP/1.1\" 304 -\n",
      "127.0.0.1 - - [17/May/2024 12:52:22] \"GET /static/results/P4155206.JPG HTTP/1.1\" 304 -\n",
      "127.0.0.1 - - [17/May/2024 12:52:22] \"GET /static/results/P4155278.JPG HTTP/1.1\" 304 -\n",
      "127.0.0.1 - - [17/May/2024 12:52:22] \"GET /static/results/P4155212.JPG HTTP/1.1\" 304 -\n",
      "127.0.0.1 - - [17/May/2024 12:52:22] \"GET /static/results/P4165345.JPG HTTP/1.1\" 304 -\n",
      "127.0.0.1 - - [17/May/2024 12:52:22] \"GET /static/results/P4186160.JPG HTTP/1.1\" 304 -\n",
      "127.0.0.1 - - [17/May/2024 12:52:22] \"GET /static/results/P4155283.JPG HTTP/1.1\" 304 -\n",
      "127.0.0.1 - - [17/May/2024 12:52:22] \"GET /static/results/P4165406.JPG HTTP/1.1\" 304 -\n",
      "127.0.0.1 - - [17/May/2024 12:52:22] \"GET /static/results/P4196626.JPG HTTP/1.1\" 304 -\n",
      "127.0.0.1 - - [17/May/2024 12:52:22] \"GET /static/results/P4165403.JPG HTTP/1.1\" 304 -\n",
      "127.0.0.1 - - [17/May/2024 12:52:22] \"GET /static/results/P4165348.JPG HTTP/1.1\" 304 -\n",
      "127.0.0.1 - - [17/May/2024 12:52:22] \"GET /static/results/P4155279.JPG HTTP/1.1\" 304 -\n",
      "127.0.0.1 - - [17/May/2024 12:52:22] \"GET /static/results/P4185866.JPG HTTP/1.1\" 304 -\n",
      "127.0.0.1 - - [17/May/2024 12:52:22] \"GET /static/results/P4155271.JPG HTTP/1.1\" 304 -\n",
      "127.0.0.1 - - [17/May/2024 12:52:22] \"GET /static/results/P4165376.JPG HTTP/1.1\" 304 -\n",
      "127.0.0.1 - - [17/May/2024 12:52:22] \"GET /static/results/P4175527.JPG HTTP/1.1\" 304 -\n",
      "127.0.0.1 - - [17/May/2024 12:52:22] \"GET /static/results/P4155266.JPG HTTP/1.1\" 304 -\n",
      "127.0.0.1 - - [17/May/2024 12:52:22] \"GET /static/results/P4185861.JPG HTTP/1.1\" 304 -\n",
      "127.0.0.1 - - [17/May/2024 12:52:22] \"GET /static/results/P4165402.JPG HTTP/1.1\" 304 -\n"
     ]
    },
    {
     "ename": "",
     "evalue": "",
     "output_type": "error",
     "traceback": [
      "\u001b[1;31mThe Kernel crashed while executing code in the current cell or a previous cell. \n",
      "\u001b[1;31mPlease review the code in the cell(s) to identify a possible cause of the failure. \n",
      "\u001b[1;31mClick <a href='https://aka.ms/vscodeJupyterKernelCrash'>here</a> for more info. \n",
      "\u001b[1;31mView Jupyter <a href='command:jupyter.viewOutput'>log</a> for further details."
     ]
    }
   ],
   "source": [
    "app = Flask(__name__) \n",
    "\n",
    "app.config['UPLOAD_FOLDER'] = 'static/uploads/'\n",
    "app.config['RESULT_FOLDER'] = 'static/results/'\n",
    "\n",
    "@app.route('/')\n",
    "def index():\n",
    "    return render_template('index.html')\n",
    "\n",
    "@app.route('/', methods=['POST'])\n",
    "def upload_image():\n",
    "    file = request.files['file']\n",
    "    if file :\n",
    "        filename = file.filename\n",
    "        filepath = os.path.join(app.config['UPLOAD_FOLDER'], filename)\n",
    "        file.save(filepath)\n",
    "        result_path = image_detect(filepath)\n",
    "        if result_path:\n",
    "            result_filename = os.path.basename(result_path)\n",
    "            return jsonify({'filename': result_filename})\n",
    "    return jsonify({'error': 'Image detection failed'})\n",
    "\n",
    "@app.route('/video')\n",
    "def video():\n",
    "    #return Response(generate_frames(path=mavideo), mimetype='multipart/x-mixed-replace; boundary=frame')\n",
    "    pass\n",
    "    \n",
    "@app.route('/webcam')\n",
    "def webcam():\n",
    "    return Response(generate_frames(path=0), mimetype='multipart/x-mixed-replace; boundary=frame')\n",
    "\n",
    "@app.route('/gallery')\n",
    "def gallery():\n",
    "    images = os.listdir('static/results')\n",
    "    images = [image for image in images if image.endswith(('jpg', 'jpeg', 'png', 'gif', 'JPG'))]\n",
    "    return render_template('gallery.html', images=images)\n",
    "\n",
    "if __name__ == '__main__':\n",
    "    app.run(debug=False)"
   ]
  }
 ],
 "metadata": {
  "kernelspec": {
   "display_name": "Python 3 (ipykernel)",
   "language": "python",
   "name": "python3"
  },
  "language_info": {
   "codemirror_mode": {
    "name": "ipython",
    "version": 3
   },
   "file_extension": ".py",
   "mimetype": "text/x-python",
   "name": "python",
   "nbconvert_exporter": "python",
   "pygments_lexer": "ipython3",
   "version": "3.11.9"
  }
 },
 "nbformat": 4,
 "nbformat_minor": 5
}
