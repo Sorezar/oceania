{
 "cells": [
  {
   "cell_type": "markdown",
   "id": "7a58c255-7b34-46f1-a6b3-09e65ef957d9",
   "metadata": {},
   "source": [
    "## Project Description\n",
    "Oceania is a shark classification tool powered by AI"
   ]
  },
  {
   "cell_type": "markdown",
   "id": "6f952cdd-b123-45c9-8bfa-86d4b250d984",
   "metadata": {
    "jp-MarkdownHeadingCollapsed": true
   },
   "source": [
    "## 1 - Setup"
   ]
  },
  {
   "cell_type": "code",
   "execution_count": null,
   "id": "d19aee5d-12e8-447a-a14e-8b691b0d1d3e",
   "metadata": {},
   "outputs": [],
   "source": [
    "import os\n",
    "from ultralytics import YOLO\n",
    "from sklearn.model_selection import train_test_split\n",
    "import shutil"
   ]
  },
  {
   "cell_type": "markdown",
   "id": "498ca3e7-54f5-4643-b952-3e15a92dc055",
   "metadata": {
    "jp-MarkdownHeadingCollapsed": true
   },
   "source": [
    "## 2 - Partition Data"
   ]
  },
  {
   "cell_type": "markdown",
   "id": "f711bdeb-53b1-4c5d-9d1a-98ac99d60e3a",
   "metadata": {},
   "source": [
    "### 2.1 Split Data Into Train Test Val"
   ]
  },
  {
   "cell_type": "code",
   "execution_count": null,
   "id": "663e824d-0045-495c-872f-8b23f6b210d1",
   "metadata": {},
   "outputs": [],
   "source": [
    "folder_path = 'data\\\\images'\n",
    "\n",
    "images = [os.path.join(folder_path, f) for f in os.listdir(folder_path) if f.endswith(('.JPG', 'jpg'))]\n",
    "\n",
    "train_images, test_val_images = train_test_split(images, test_size=0.3, random_state=0)\n",
    "test_images, val_images = train_test_split(test_val_images, test_size=0.5, random_state=0)\n",
    "\n",
    "def copy_images(dataset, dataset_type):\n",
    "    dest_path = 'data'\n",
    "    dest_folder = os.path.join(dest_path, dataset_type)\n",
    "    os.makedirs(dest_folder, exist_ok=True)\n",
    "    for image in dataset:\n",
    "        dest_path = os.path.join(dest_folder, os.path.basename(image))\n",
    "        shutil.copy(image, dest_path)\n",
    "\n",
    "\n",
    "copy_images(train_images, 'train\\\\images')\n",
    "copy_images(test_images, 'test\\\\images')\n",
    "copy_images(val_images, 'val\\\\images')\n",
    "\n",
    "print(\"Done\")"
   ]
  },
  {
   "cell_type": "markdown",
   "id": "518d2e25-696d-4993-bd9f-b5f08034f65d",
   "metadata": {},
   "source": [
    "### 2.2 Move the Matching Labels "
   ]
  },
  {
   "cell_type": "code",
   "execution_count": null,
   "id": "3924d089-33c0-4273-8038-a8a5f3b963f2",
   "metadata": {},
   "outputs": [],
   "source": [
    "dest = 'data'\n",
    "for folder in ['train', 'test', 'val']:\n",
    "    for file in os.listdir(os.path.join(dest, folder, 'images')):\n",
    "        filename = file.split('.')[0] + '.txt'\n",
    "        existing_filepath = os.path.join(dest, 'labels', filename)\n",
    "        if os.path.exists(existing_filepath):\n",
    "            new_filepath = os.path.join(dest, folder, 'labels', filename)\n",
    "            shutil.copy(existing_filepath, new_filepath)\n",
    "print(\"Done\")"
   ]
  },
  {
   "cell_type": "markdown",
   "id": "0859f0ea-0eac-47fb-a5ae-d77867466776",
   "metadata": {},
   "source": [
    "## 3 YOLO Model"
   ]
  },
  {
   "cell_type": "code",
   "execution_count": null,
   "id": "a52a6f6c-fd77-4572-b4e2-78fe9f0eadf3",
   "metadata": {},
   "outputs": [],
   "source": [
    "model = YOLO('yolov8s.yaml')"
   ]
  },
  {
   "cell_type": "code",
   "execution_count": null,
   "id": "49c5f83b-3f00-4d82-ae73-36ea8f5921c7",
   "metadata": {
    "scrolled": true
   },
   "outputs": [],
   "source": [
    "results = model.train(data=\"config.yaml\", epochs=500, augment=True, imgsz=1024)"
   ]
  }
 ],
 "metadata": {
  "kernelspec": {
   "display_name": "Python 3 (ipykernel)",
   "language": "python",
   "name": "python3"
  },
  "language_info": {
   "codemirror_mode": {
    "name": "ipython",
    "version": 3
   },
   "file_extension": ".py",
   "mimetype": "text/x-python",
   "name": "python",
   "nbconvert_exporter": "python",
   "pygments_lexer": "ipython3",
   "version": "3.11.9"
  }
 },
 "nbformat": 4,
 "nbformat_minor": 5
}
